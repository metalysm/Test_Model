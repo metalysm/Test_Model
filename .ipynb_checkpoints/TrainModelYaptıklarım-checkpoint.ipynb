{
 "cells": [
  {
   "cell_type": "markdown",
   "metadata": {},
   "source": [
    "MODELİ EĞİTİRKEN YAPTIKLARIM"
   ]
  },
  {
   "cell_type": "markdown",
   "metadata": {},
   "source": [
    "git clone https://github.com/tensorflow/models.git"
   ]
  },
  {
   "cell_type": "markdown",
   "metadata": {},
   "source": [
    "cd models/research\n",
    "# Compile protos.\n",
    "protoc object_detection/protos/*.proto --python_out=.\n",
    "# Install TensorFlow Object Detection API.\n",
    "cp object_detection/packages/tf2/setup.py .\n",
    "python -m pip install ."
   ]
  },
  {
   "cell_type": "markdown",
   "metadata": {},
   "source": [
    "import os\n",
    "import sys\n",
    "args = sys.argv\n",
    "directory = args[1]\n",
    "protoc_path = args[2]\n",
    "for file in os.listdir(directory):\n",
    "    if file.endswith(\".proto\"):\n",
    "        os.system(protoc_path+\" \"+directory+\"/\"+file+\" --python_out=.\")"
   ]
  },
  {
   "cell_type": "markdown",
   "metadata": {},
   "source": [
    "python use_protobuf.py <path to directory> <path to protoc file> #kendi bilgisayarımda yolları yazdım."
   ]
  },
  {
   "cell_type": "markdown",
   "metadata": {},
   "source": [
    "python object_detection/builders/model_builder_tf2_test.py"
   ]
  },
  {
   "cell_type": "markdown",
   "metadata": {},
   "source": [
    "BURADA YAKLAŞIK 50 FOTOĞRAFIN LABEL MAP'İNİ ÇIKARTTIM. 40'I train DOSYASINA 10'U test DOSYASINA OLACAK ŞEKİLDE."
   ]
  },
  {
   "cell_type": "markdown",
   "metadata": {},
   "source": [
    "python xml_to_csv.py"
   ]
  },
  {
   "cell_type": "markdown",
   "metadata": {},
   "source": [
    "def class_text_to_int(row_label):\n",
    "    if row_label == 'koyun':      #generate_tfrecord.py 'ta labelları ayarladım.\n",
    "        return 1\n",
    "    else:\n",
    "        return None"
   ]
  },
  {
   "cell_type": "markdown",
   "metadata": {},
   "source": [
    "python generate_tfrecord.py --csv_input=images/train_labels.csv --image_dir=images/train --output_path=train.record  #train vest test record'lar"
   ]
  },
  {
   "cell_type": "markdown",
   "metadata": {},
   "source": [
    "python generate_tfrecord.py --csv_input=images/test_labels.csv --image_dir=images/test --output_path=test.record"
   ]
  },
  {
   "cell_type": "markdown",
   "metadata": {},
   "source": [
    "item {       #training içerisine label_map.pbtxt\n",
    "    id: 1\n",
    "    name: 'koyun'\n",
    "}"
   ]
  },
  {
   "cell_type": "markdown",
   "metadata": {},
   "source": [
    "fine_tune_checkpoint: \"<path>/efficientdet_d0_coco17_tpu-32/checkpoint/ckpt-0\" \n",
    "input_path: \"<path>/train.record\"\n",
    "input_path: \"<path>/test.record\"   \n",
    "label_map_path: \"<path>/labelmap.pbtxt\"    \n",
    "    \n",
    "    #training içindeki ssd_efficientdet_d0_512x512_coco17_tpu-8.config dosyasını \n",
    "    #düzenledim pathleriyle beraber. Batch size ayarladım."
   ]
  },
  {
   "cell_type": "markdown",
   "metadata": {},
   "source": [
    "python model_main_tf2.py \\\n",
    "    --pipeline_config_path=training/ssd_efficientdet_d0_512x512_coco17_tpu-8.config \\\n",
    "    --model_dir=training \\\n",
    "    --alsologtostderr               #modeli eğitmeye başladım."
   ]
  },
  {
   "cell_type": "markdown",
   "metadata": {},
   "source": [
    "python exporter_main_v2.py \\\n",
    "    --trained_checkpoint_dir=training \\\n",
    "    --pipeline_config_path=training/ssd_efficientdet_d0_512x512_coco17_tpu-8.config \\\n",
    "    --output_directory inference_graph        #eğittikten sonra inference_grahı exportladım."
   ]
  }
 ],
 "metadata": {
  "kernelspec": {
   "display_name": "Python 3",
   "language": "python",
   "name": "python3"
  },
  "language_info": {
   "codemirror_mode": {
    "name": "ipython",
    "version": 3
   },
   "file_extension": ".py",
   "mimetype": "text/x-python",
   "name": "python",
   "nbconvert_exporter": "python",
   "pygments_lexer": "ipython3",
   "version": "3.8.3"
  }
 },
 "nbformat": 4,
 "nbformat_minor": 4
}
